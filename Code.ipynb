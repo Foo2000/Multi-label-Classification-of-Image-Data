{
 "cells": [
  {
   "cell_type": "markdown",
   "metadata": {
    "id": "EvdqtuZ9Oxbq"
   },
   "source": [
    "# Multi-Digit Recognition"
   ]
  },
  {
   "cell_type": "code",
   "execution_count": 1,
   "metadata": {},
   "outputs": [],
   "source": [
    "import h5py, cv2, torch\n",
    "import numpy as np\n",
    "import pandas as pd\n",
    "import matplotlib.pyplot as plt\n",
    "plt.rcParams['image.cmap'] = 'Greys'\n",
    "\n",
    "import torch\n",
    "import torch.nn as nn\n",
    "import torch.nn.functional as F\n",
    "import torch.optim as optim"
   ]
  },
  {
   "cell_type": "markdown",
   "metadata": {
    "id": "_UFc4K_U5MFJ"
   },
   "source": [
    "## Dataset"
   ]
  },
  {
   "cell_type": "code",
   "execution_count": 2,
   "metadata": {
    "id": "MzTf1pYJbR9M",
    "outputId": "57f2415c-aaf7-4d06-ec0d-fef422d1dcf7"
   },
   "outputs": [
    {
     "data": {
      "text/plain": [
       "[<HDF5 dataset \"test_dataset\": shape (14000, 64, 64, 1), type \"|u1\">,\n",
       " <HDF5 dataset \"train_dataset\": shape (56000, 64, 64, 1), type \"|u1\">,\n",
       " <HDF5 dataset \"train_labels\": shape (56000, 5), type \"<i4\">]"
      ]
     },
     "execution_count": 2,
     "metadata": {},
     "output_type": "execute_result"
    }
   ],
   "source": [
    "hf = h5py.File('MNIST_synthetic.h5', 'r')\n",
    "list(hf.values())"
   ]
  },
  {
   "cell_type": "code",
   "execution_count": 3,
   "metadata": {
    "id": "lTJ5B6SFb40K"
   },
   "outputs": [],
   "source": [
    "# Getting dataset values\n",
    "test_dataset_raw = hf.get('test_dataset')[()]\n",
    "train_dataset_raw = hf.get('train_dataset')[()]\n",
    "train_labels_raw = hf.get('train_labels')[()]"
   ]
  },
  {
   "cell_type": "code",
   "execution_count": 4,
   "metadata": {
    "id": "83ejseqGcLaO",
    "outputId": "f44732ce-ebaf-4b42-db81-e4554671ddcd"
   },
   "outputs": [
    {
     "data": {
      "text/plain": [
       "(56000, 1, 64, 64)"
      ]
     },
     "execution_count": 4,
     "metadata": {},
     "output_type": "execute_result"
    }
   ],
   "source": [
    "# X : NCHW (dataset size, chanels, height, weight)\n",
    "train_dataset = train_dataset_raw.transpose(0,3,1,2)\n",
    "train_dataset.shape"
   ]
  },
  {
   "cell_type": "code",
   "execution_count": 5,
   "metadata": {
    "id": "mIfWOiR-cN6d",
    "outputId": "f926e1d3-c5e2-4362-f3cb-7ddc68ae9fa0"
   },
   "outputs": [
    {
     "data": {
      "text/plain": [
       "(56000, 5)"
      ]
     },
     "execution_count": 5,
     "metadata": {},
     "output_type": "execute_result"
    }
   ],
   "source": [
    "# y : N*c (dataset size, number of classes) <- rename this c?\n",
    "train_labels = train_labels_raw\n",
    "train_labels.shape"
   ]
  },
  {
   "cell_type": "code",
   "execution_count": 6,
   "metadata": {
    "id": "DJUwi-oXs1ww",
    "outputId": "77af7b6e-c721-4fb1-8746-34c2a312d2b1"
   },
   "outputs": [
    {
     "name": "stdout",
     "output_type": "stream",
     "text": [
      "[[ 8  5  0  3 10]\n",
      " [ 8  9  9  8  7]\n",
      " [ 1  7  9  1  8]\n",
      " [ 5  2  6 10 10]\n",
      " [ 2 10 10 10 10]]\n"
     ]
    },
    {
     "data": {
      "image/png": "[encoded data removed]",
      "text/plain": [
       "<Figure size 1080x5400 with 1 Axes>"
      ]
     },
     "metadata": {
      "needs_background": "light"
     },
     "output_type": "display_data"
    }
   ],
   "source": [
    "# Visualize first five train images\n",
    "img = np.concatenate(tuple(train_dataset[:5]),axis=2)[0,:,:]\n",
    "plt.figure(figsize=(15,75))\n",
    "plt.imshow(img)\n",
    "print(train_labels[:5])"
   ]
  },
  {
   "cell_type": "markdown",
   "metadata": {
    "id": "A5UJ4f8kanCN"
   },
   "source": [
    "## Preprocessing"
   ]
  },
  {
   "cell_type": "code",
   "execution_count": 7,
   "metadata": {
    "id": "xu73-wXwY6OK"
   },
   "outputs": [],
   "source": [
    "# Crops a single synthetic image into a list of 5 digit images\n",
    "def cropimg(img0):\n",
    "    img = 255 - img0\n",
    "  \n",
    "    img0 = cv2.resize(img0, (512,512), interpolation = cv2.INTER_AREA) \n",
    "    temp = cv2.resize(img, (512,512), interpolation = cv2.INTER_AREA) \n",
    "    img=temp\n",
    "\n",
    "    dim = (512, 512)\n",
    "    resized = cv2.resize(img, dim, interpolation = cv2.INTER_AREA) \n",
    "    img = resized\n",
    "    ret, im_th = cv2.threshold(img, 245, 255, cv2.THRESH_BINARY_INV)\n",
    "    ctrs, hier = cv2.findContours(im_th.copy(), cv2.RETR_EXTERNAL, cv2.CHAIN_APPROX_SIMPLE)\n",
    "    borders={}\n",
    "    names=[]\n",
    "\n",
    "    for ctr in ctrs:\n",
    "        x, y, w, h = cv2.boundingRect(ctr)\n",
    "        borders[x] = (x,y,w,h)\n",
    "        names.append(x)\n",
    "    borders=dict(sorted(borders.items()))\n",
    "    names.sort()\n",
    "    results = np.zeros((5,1,32,32), dtype='uint8')\n",
    "    i=0\n",
    "    size=(32,32)\n",
    "    \n",
    "    for m in range(len(names)-1):\n",
    "        if borders[names[m+1]][0]-borders[names[m]][0]<15 and (borders[names[m+1]][3]>=60 or borders[names[m+1]][2]>=50):\n",
    "            (x,y,w,h)=borders[names[m]]\n",
    "            (x1,y1,w1,h1)=borders[names[m+1]]\n",
    "            borders[names[m]]=(x,min(y,y1),max(w,w1),max(y,y1)-min(y,y1)+max(h,h1))\n",
    "            borders[names[m+1]]=(0,0,0,0)\n",
    "  \n",
    "    for key,rect in borders.items():\n",
    "        if rect[3] < 60 and rect[2]<50:\n",
    "            continue\n",
    "        borderImg=img0[rect[1]-10:rect[1]+rect[3]+10,rect[0]-10:rect[0]+rect[2]+10]\n",
    "        extendPiexl = (max(borderImg.shape) - min(borderImg.shape)) // 2\n",
    "        targetImg = cv2.copyMakeBorder(borderImg, 7, 7, extendPiexl + 7, extendPiexl + 7, cv2.BORDER_CONSTANT)\n",
    "        targetImg = cv2.resize(targetImg, size)   \n",
    "        targetImg = np.expand_dims(targetImg, axis=0)\n",
    "        results[i]=targetImg\n",
    "        i+=1\n",
    "    \n",
    "    if len(borders)<5:\n",
    "        temp=np.zeros((1,32,32), dtype='uint8')\n",
    "        temp.fill(0)\n",
    "        for num in range(5-len(borders)):\n",
    "            results[len(borders)+num]=temp\n",
    "  \n",
    "    return results"
   ]
  },
  {
   "cell_type": "code",
   "execution_count": 8,
   "metadata": {
    "id": "VxQVmkR3qfUS"
   },
   "outputs": [],
   "source": [
    "# Crops the whole dataset, returns a Tensor\n",
    "def cropDataset(dataset1):\n",
    "    dim=dataset1.shape\n",
    "    out=np.zeros((dim[0]*5,1,32,32), dtype='uint8')\n",
    "  \n",
    "    for m in range(dim[0]):\n",
    "        images=cropimg(dataset1[m][0])\n",
    "        out[0+m*5:5+m*5]=images\n",
    "    \n",
    "    return torch.from_numpy(out)"
   ]
  },
  {
   "cell_type": "code",
   "execution_count": 9,
   "metadata": {
    "id": "DpjRBhazteEq",
    "outputId": "7937637a-9b53-462d-e63f-d09328664507"
   },
   "outputs": [
    {
     "data": {
      "text/plain": [
       "torch.Size([56000, 5, 1, 32, 32])"
      ]
     },
     "execution_count": 9,
     "metadata": {},
     "output_type": "execute_result"
    }
   ],
   "source": [
    "train_dataset_cropped = cropDataset(train_dataset)\n",
    "train_dataset_cropped = train_dataset_cropped.reshape((-1,5,1,32,32))\n",
    "train_dataset_cropped.shape"
   ]
  },
  {
   "cell_type": "code",
   "execution_count": 11,
   "metadata": {
    "id": "_ZcLslB5T3BG",
    "outputId": "1187a9c7-937b-4899-c51b-2b806bcda35c"
   },
   "outputs": [
    {
     "name": "stdout",
     "output_type": "stream",
     "text": [
      "[[ 8  5  0  3 10]]\n"
     ]
    },
    {
     "data": {
      "image/png": "[encoded data removed]",
      "text/plain": [
       "<Figure size 1080x5400 with 1 Axes>"
      ]
     },
     "metadata": {
      "needs_background": "light"
     },
     "output_type": "display_data"
    }
   ],
   "source": [
    "# Visualize first cropped image group\n",
    "for i in range(1):\n",
    "    img = np.concatenate(tuple(train_dataset_cropped[i,:]),axis=2)[0,:,:]\n",
    "    plt.figure(figsize=(15,75))\n",
    "    plt.imshow(img)\n",
    "print(train_labels[:1])"
   ]
  },
  {
   "cell_type": "markdown",
   "metadata": {},
   "source": [
    "# Parameter Tuning"
   ]
  },
  {
   "cell_type": "markdown",
   "metadata": {},
   "source": [
    "## Depth of each layer"
   ]
  },
  {
   "cell_type": "markdown",
   "metadata": {},
   "source": [
    "### Shallow"
   ]
  },
  {
   "cell_type": "code",
   "execution_count": 55,
   "metadata": {},
   "outputs": [],
   "source": [
    "# Shallow net\n",
    "class Net(nn.Module):\n",
    "\n",
    "    def __init__(self):\n",
    "        super(Net, self).__init__()\n",
    "\n",
    "        self._conv0 = nn.Sequential(\n",
    "            nn.Conv2d(1, 32, 3),\n",
    "            nn.ReLU(),\n",
    "            nn.BatchNorm2d(32),\n",
    "            nn.Dropout(0.25)\n",
    "        )\n",
    "\n",
    "        self._conv1 = nn.Sequential(\n",
    "            nn.Conv2d(32, 64, 3),\n",
    "            nn.ReLU(),\n",
    "            nn.BatchNorm2d(64),\n",
    "            nn.Dropout(0.25) \n",
    "        )\n",
    "        \n",
    "        self._conv2 =nn.Sequential(\n",
    "            nn.Conv2d(64, 128, 4),\n",
    "            nn.ReLU(),\n",
    "            nn.BatchNorm2d(128),\n",
    "            nn.Dropout(0.25) \n",
    "        )\n",
    "\n",
    "        self._lr0 = nn.Sequential(\n",
    "            nn.Linear(128*25*25,11)\n",
    "        )\n",
    "\n",
    "    def forward(self, x):\n",
    "        x = self._conv0(x)\n",
    "        x = self._conv1(x)\n",
    "        x = self._conv2(x)\n",
    "        x = x.view(-1,128*25*25)\n",
    "        x = self._lr0(x)\n",
    "        x = F.log_softmax(x,dim=1)\n",
    "\n",
    "        return x\n"
   ]
  },
  {
   "cell_type": "code",
   "execution_count": 56,
   "metadata": {},
   "outputs": [],
   "source": [
    "# Trainloader\n",
    "train_x = train_dataset_cropped[:-100].float()\n",
    "train_y = torch.Tensor(train_labels[:-100]).long()\n",
    "trainset = torch.utils.data.TensorDataset(train_x, train_y)\n",
    "trainloader = torch.utils.data.DataLoader(trainset, batch_size=64, shuffle=True, num_workers=2)\n",
    "# Validation set\n",
    "val_x = train_dataset_cropped[-100:].float()\n",
    "val_y = torch.Tensor(train_labels[-100:]).long()\n",
    "# Model, loss function, optimizer\n",
    "net = Net()\n",
    "net = net.cuda()\n",
    "criterion = nn.CrossEntropyLoss()\n",
    "optimizer = torch.optim.Adam(net.parameters(), lr=1e-4)"
   ]
  },
  {
   "cell_type": "code",
   "execution_count": 57,
   "metadata": {},
   "outputs": [],
   "source": [
    "epoch_loss_shallow = np.array([])\n",
    "epoch_loss_val_shallow = np.array([])"
   ]
  },
  {
   "cell_type": "code",
   "execution_count": 58,
   "metadata": {
    "id": "RN48jUmHH4mW",
    "scrolled": true
   },
   "outputs": [
    {
     "name": "stdout",
     "output_type": "stream",
     "text": [
      "[1,   125] loss: 0.240\n",
      "[1,   250] loss: 0.110\n",
      "[1,   375] loss: 0.105\n",
      "[1,   500] loss: 0.089\n",
      "[1,   625] loss: 0.091\n",
      "[1,   750] loss: 0.084\n",
      "[2,   125] loss: 0.071\n",
      "[2,   250] loss: 0.070\n",
      "[2,   375] loss: 0.069\n",
      "[2,   500] loss: 0.064\n",
      "[2,   625] loss: 0.073\n",
      "[2,   750] loss: 0.068\n",
      "[3,   125] loss: 0.065\n",
      "[3,   250] loss: 0.060\n",
      "[3,   375] loss: 0.065\n",
      "[3,   500] loss: 0.052\n",
      "[3,   625] loss: 0.061\n",
      "[3,   750] loss: 0.063\n",
      "[4,   125] loss: 0.058\n",
      "[4,   250] loss: 0.050\n",
      "[4,   375] loss: 0.058\n",
      "[4,   500] loss: 0.043\n",
      "[4,   625] loss: 0.062\n",
      "[4,   750] loss: 0.056\n",
      "[5,   125] loss: 0.051\n",
      "[5,   250] loss: 0.052\n",
      "[5,   375] loss: 0.059\n",
      "[5,   500] loss: 0.044\n",
      "[5,   625] loss: 0.062\n",
      "[5,   750] loss: 0.055\n",
      "Finished Training\n"
     ]
    }
   ],
   "source": [
    "# Train the network\n",
    "for epoch in range(5):  # loop over the dataset multiple times\n",
    "    running_loss = 0.0\n",
    "    for i, data in enumerate(trainloader, 0):\n",
    "        # get the inputs; data is a list of [inputs, labels]\n",
    "        inputs, labels = data\n",
    "        inputs = inputs.reshape((-1,1,32,32))\n",
    "        labels = labels.reshape((-1))\n",
    "        inputs = inputs.cuda()\n",
    "        labels = labels.cuda()\n",
    "\n",
    "        # zero the parameter gradients\n",
    "        optimizer.zero_grad()\n",
    "\n",
    "        # forward + backward + optimize\n",
    "        outputs = net(inputs)\n",
    "        loss = criterion(outputs, labels)\n",
    "        loss.backward()\n",
    "        optimizer.step()\n",
    "\n",
    "        # print statistics\n",
    "        running_loss += loss.item()\n",
    "        if i % 125 == 124:    # print every 125 mini-batches\n",
    "            print('[%d, %5d] loss: %.3f' %\n",
    "                  (epoch + 1, i + 1, running_loss / 125))\n",
    "            epoch_loss_shallow = np.append(epoch_loss_shallow, (running_loss / 125))\n",
    "            running_loss = 0.0\n",
    "    # calculate validation loss\n",
    "    with torch.no_grad():\n",
    "        inputs = val_x.reshape((-1,1,32,32))\n",
    "        labels = val_y.reshape((-1))\n",
    "        inputs = inputs.cuda()\n",
    "        labels = labels.cuda()\n",
    "        outputs = net(inputs)\n",
    "        loss = criterion(outputs, labels)\n",
    "        epoch_loss_val_shallow = np.append(epoch_loss_val_shallow, loss.item())\n",
    "\n",
    "print('Finished Training')"
   ]
  },
  {
   "cell_type": "code",
   "execution_count": 60,
   "metadata": {},
   "outputs": [
    {
     "data": {
      "text/plain": [
       "array([0.08388681, 0.06771943, 0.06276264, 0.05582295, 0.05456411])"
      ]
     },
     "execution_count": 60,
     "metadata": {},
     "output_type": "execute_result"
    }
   ],
   "source": [
    "loss_shallow = epoch_loss_shallow.reshape((-1,6))[:,-1]\n",
    "loss_shallow"
   ]
  },
  {
   "cell_type": "markdown",
   "metadata": {},
   "source": [
    "### Mid"
   ]
  },
  {
   "cell_type": "code",
   "execution_count": 73,
   "metadata": {},
   "outputs": [],
   "source": [
    "class Net(nn.Module):\n",
    "\n",
    "    def __init__(self):\n",
    "        super(Net, self).__init__()\n",
    "\n",
    "        self._conv0 = nn.Sequential(\n",
    "            nn.Conv2d(1, 32, 3),\n",
    "            nn.ReLU(),\n",
    "            nn.BatchNorm2d(32),\n",
    "            nn.Conv2d(32, 32, 5, stride=2, padding=2), \n",
    "            nn.ReLU(),\n",
    "            nn.BatchNorm2d(32),\n",
    "            nn.Dropout(0.25)\n",
    "        )\n",
    "\n",
    "        self._conv1 = nn.Sequential(\n",
    "            nn.Conv2d(32, 64, 3),\n",
    "            nn.ReLU(),\n",
    "            nn.BatchNorm2d(64), \n",
    "            nn.Conv2d(64, 64, 5, stride=2, padding=1), \n",
    "            nn.ReLU(),\n",
    "            nn.BatchNorm2d(64),\n",
    "            nn.Dropout(0.25) \n",
    "        )\n",
    "        \n",
    "        self._conv2 =nn.Sequential(\n",
    "            nn.Conv2d(64, 128, 4),\n",
    "            nn.ReLU(),\n",
    "            nn.BatchNorm2d(128),\n",
    "            nn.Dropout(0.25) \n",
    "        )\n",
    "\n",
    "        self._lr0 = nn.Sequential(\n",
    "            nn.Linear(128*3*3,11)\n",
    "        )\n",
    "\n",
    "    def forward(self, x):\n",
    "        x = self._conv0(x)\n",
    "        x = self._conv1(x)\n",
    "        x = self._conv2(x)\n",
    "        \n",
    "        x = x.view(-1,128*3*3)\n",
    "        x = self._lr0(x)\n",
    "        x = F.log_softmax(x,dim=1)\n",
    "\n",
    "        return x\n"
   ]
  },
  {
   "cell_type": "code",
   "execution_count": 74,
   "metadata": {},
   "outputs": [],
   "source": [
    "# Trainloader\n",
    "train_x = train_dataset_cropped[:-100].float()\n",
    "train_y = torch.Tensor(train_labels[:-100]).long()\n",
    "trainset = torch.utils.data.TensorDataset(train_x, train_y)\n",
    "trainloader = torch.utils.data.DataLoader(trainset, batch_size=64, shuffle=True, num_workers=2)\n",
    "# Validation set\n",
    "val_x = train_dataset_cropped[-100:].float()\n",
    "val_y = torch.Tensor(train_labels[-100:]).long()\n",
    "# Model, loss function, optimizer\n",
    "net = Net()\n",
    "net = net.cuda()\n",
    "criterion = nn.CrossEntropyLoss()\n",
    "optimizer = torch.optim.Adam(net.parameters(), lr=1e-4)"
   ]
  },
  {
   "cell_type": "code",
   "execution_count": 75,
   "metadata": {},
   "outputs": [],
   "source": [
    "epoch_loss_mid = np.array([])\n",
    "epoch_loss_val_mid = np.array([])"
   ]
  },
  {
   "cell_type": "code",
   "execution_count": 76,
   "metadata": {},
   "outputs": [
    {
     "name": "stdout",
     "output_type": "stream",
     "text": [
      "[1,   125] loss: 0.699\n",
      "[1,   250] loss: 0.218\n",
      "[1,   375] loss: 0.145\n",
      "[1,   500] loss: 0.122\n",
      "[1,   625] loss: 0.105\n",
      "[1,   750] loss: 0.088\n",
      "[2,   125] loss: 0.076\n",
      "[2,   250] loss: 0.072\n",
      "[2,   375] loss: 0.071\n",
      "[2,   500] loss: 0.064\n",
      "[2,   625] loss: 0.061\n",
      "[2,   750] loss: 0.058\n",
      "[3,   125] loss: 0.065\n",
      "[3,   250] loss: 0.051\n",
      "[3,   375] loss: 0.053\n",
      "[3,   500] loss: 0.049\n",
      "[3,   625] loss: 0.049\n",
      "[3,   750] loss: 0.048\n",
      "[4,   125] loss: 0.047\n",
      "[4,   250] loss: 0.044\n",
      "[4,   375] loss: 0.050\n",
      "[4,   500] loss: 0.044\n",
      "[4,   625] loss: 0.043\n",
      "[4,   750] loss: 0.040\n",
      "[5,   125] loss: 0.037\n",
      "[5,   250] loss: 0.046\n",
      "[5,   375] loss: 0.042\n",
      "[5,   500] loss: 0.039\n",
      "[5,   625] loss: 0.040\n",
      "[5,   750] loss: 0.038\n",
      "Finished Training\n"
     ]
    }
   ],
   "source": [
    "# Train the network\n",
    "for epoch in range(5):  # loop over the dataset multiple times\n",
    "    running_loss = 0.0\n",
    "    for i, data in enumerate(trainloader, 0):\n",
    "        # get the inputs; data is a list of [inputs, labels]\n",
    "        inputs, labels = data\n",
    "        inputs = inputs.reshape((-1,1,32,32))\n",
    "        labels = labels.reshape((-1))\n",
    "        inputs = inputs.cuda()\n",
    "        labels = labels.cuda()\n",
    "\n",
    "        # zero the parameter gradients\n",
    "        optimizer.zero_grad()\n",
    "\n",
    "        # forward + backward + optimize\n",
    "        outputs = net(inputs)\n",
    "        loss = criterion(outputs, labels)\n",
    "        loss.backward()\n",
    "        optimizer.step()\n",
    "\n",
    "        # print statistics\n",
    "        running_loss += loss.item()\n",
    "        if i % 125 == 124:    # print every 125s mini-batches\n",
    "            print('[%d, %5d] loss: %.3f' %\n",
    "                  (epoch + 1, i + 1, running_loss / 125))\n",
    "            epoch_loss_mid = np.append(epoch_loss_mid, (running_loss / 125))\n",
    "            running_loss = 0.0\n",
    "    # calculate validation loss\n",
    "    with torch.no_grad():\n",
    "        inputs = val_x.reshape((-1,1,32,32))\n",
    "        labels = val_y.reshape((-1))\n",
    "        inputs = inputs.cuda()\n",
    "        labels = labels.cuda()\n",
    "        outputs = net(inputs)\n",
    "        loss = criterion(outputs, labels)\n",
    "        epoch_loss_val_mid = np.append(epoch_loss_val_mid, loss.item())\n",
    "\n",
    "print('Finished Training')"
   ]
  },
  {
   "cell_type": "code",
   "execution_count": 77,
   "metadata": {},
   "outputs": [
    {
     "data": {
      "text/plain": [
       "array([0.08839003, 0.05791786, 0.04783739, 0.03964011, 0.03821096])"
      ]
     },
     "execution_count": 77,
     "metadata": {},
     "output_type": "execute_result"
    }
   ],
   "source": [
    "loss_mid = epoch_loss_mid.reshape((-1,6))[:,-1]\n",
    "loss_mid"
   ]
  },
  {
   "cell_type": "markdown",
   "metadata": {},
   "source": [
    "### Deep"
   ]
  },
  {
   "cell_type": "code",
   "execution_count": 12,
   "metadata": {},
   "outputs": [],
   "source": [
    "class Net(nn.Module):\n",
    "\n",
    "    def __init__(self):\n",
    "        super(Net, self).__init__()\n",
    "\n",
    "        self._conv0 = nn.Sequential(\n",
    "            nn.Conv2d(1, 32, 3),\n",
    "            nn.ReLU(),\n",
    "            nn.BatchNorm2d(32),\n",
    "            nn.Conv2d(32, 32, 3),\n",
    "            nn.ReLU(),\n",
    "            nn.BatchNorm2d(32), \n",
    "            nn.Conv2d(32, 32, 5, stride=2, padding=2), \n",
    "            nn.ReLU(),\n",
    "            nn.BatchNorm2d(32),\n",
    "            nn.Dropout(0.25)\n",
    "        )\n",
    "\n",
    "        self._conv1 = nn.Sequential(\n",
    "            nn.Conv2d(32, 64, 3),\n",
    "            nn.ReLU(),\n",
    "            nn.BatchNorm2d(64), \n",
    "            nn.Conv2d(64, 64, 3),\n",
    "            nn.ReLU(),\n",
    "            nn.BatchNorm2d(64), \n",
    "            nn.Conv2d(64, 64, 5, stride=2, padding=1), \n",
    "            nn.ReLU(),\n",
    "            nn.BatchNorm2d(64),\n",
    "            nn.Dropout(0.25) \n",
    "        )\n",
    "        \n",
    "        self._conv2 =nn.Sequential(\n",
    "            nn.Conv2d(64, 128, 4),\n",
    "            nn.ReLU(),\n",
    "            nn.BatchNorm2d(128),\n",
    "            nn.Dropout(0.25) \n",
    "        )\n",
    "\n",
    "        self._lr0 = nn.Sequential(\n",
    "            nn.Linear(128,11)\n",
    "        )\n",
    "\n",
    "    def forward(self, x):\n",
    "        x = self._conv0(x)\n",
    "        x = self._conv1(x)\n",
    "        x = self._conv2(x)\n",
    "\n",
    "        x = x.view(-1,128)\n",
    "        x = self._lr0(x)\n",
    "        x = F.log_softmax(x,dim=1)\n",
    "\n",
    "        return x\n"
   ]
  },
  {
   "cell_type": "code",
   "execution_count": 79,
   "metadata": {},
   "outputs": [],
   "source": [
    "# Trainloader\n",
    "train_x = train_dataset_cropped[:-100].float()\n",
    "train_y = torch.Tensor(train_labels[:-100]).long()\n",
    "trainset = torch.utils.data.TensorDataset(train_x, train_y)\n",
    "trainloader = torch.utils.data.DataLoader(trainset, batch_size=64, shuffle=True, num_workers=2)\n",
    "# Validation set\n",
    "val_x = train_dataset_cropped[-100:].float()\n",
    "val_y = torch.Tensor(train_labels[-100:]).long()\n",
    "# Model, loss function, optimizer\n",
    "net = Net()\n",
    "net = net.cuda()\n",
    "criterion = nn.CrossEntropyLoss()\n",
    "optimizer = torch.optim.Adam(net.parameters(), lr=1e-4)"
   ]
  },
  {
   "cell_type": "code",
   "execution_count": 80,
   "metadata": {},
   "outputs": [],
   "source": [
    "epoch_loss_deep = np.array([])\n",
    "epoch_loss_val_deep = np.array([])"
   ]
  },
  {
   "cell_type": "code",
   "execution_count": 81,
   "metadata": {
    "scrolled": true
   },
   "outputs": [
    {
     "name": "stdout",
     "output_type": "stream",
     "text": [
      "[1,   125] loss: 0.811\n",
      "[1,   250] loss: 0.274\n",
      "[1,   375] loss: 0.174\n",
      "[1,   500] loss: 0.137\n",
      "[1,   625] loss: 0.107\n",
      "[1,   750] loss: 0.092\n",
      "[2,   125] loss: 0.076\n",
      "[2,   250] loss: 0.068\n",
      "[2,   375] loss: 0.067\n",
      "[2,   500] loss: 0.067\n",
      "[2,   625] loss: 0.061\n",
      "[2,   750] loss: 0.056\n",
      "[3,   125] loss: 0.054\n",
      "[3,   250] loss: 0.052\n",
      "[3,   375] loss: 0.056\n",
      "[3,   500] loss: 0.047\n",
      "[3,   625] loss: 0.049\n",
      "[3,   750] loss: 0.047\n",
      "[4,   125] loss: 0.035\n",
      "[4,   250] loss: 0.041\n",
      "[4,   375] loss: 0.046\n",
      "[4,   500] loss: 0.041\n",
      "[4,   625] loss: 0.049\n",
      "[4,   750] loss: 0.046\n",
      "[5,   125] loss: 0.040\n",
      "[5,   250] loss: 0.041\n",
      "[5,   375] loss: 0.036\n",
      "[5,   500] loss: 0.039\n",
      "[5,   625] loss: 0.039\n",
      "[5,   750] loss: 0.040\n",
      "Finished Training\n"
     ]
    }
   ],
   "source": [
    "# Train the network\n",
    "for epoch in range(5):  # loop over the dataset multiple times\n",
    "    running_loss = 0.0\n",
    "    for i, data in enumerate(trainloader, 0):\n",
    "        # get the inputs; data is a list of [inputs, labels]\n",
    "        inputs, labels = data\n",
    "        inputs = inputs.reshape((-1,1,32,32))\n",
    "        labels = labels.reshape((-1))\n",
    "        inputs = inputs.cuda()\n",
    "        labels = labels.cuda()\n",
    "\n",
    "        # zero the parameter gradients\n",
    "        optimizer.zero_grad()\n",
    "\n",
    "        # forward + backward + optimize\n",
    "        outputs = net(inputs)\n",
    "        loss = criterion(outputs, labels)\n",
    "        loss.backward()\n",
    "        optimizer.step()\n",
    "\n",
    "        # print statistics\n",
    "        running_loss += loss.item()\n",
    "        if i % 125 == 124:    # print every 125 mini-batches\n",
    "            print('[%d, %5d] loss: %.3f' %\n",
    "                  (epoch + 1, i + 1, running_loss / 125))\n",
    "            epoch_loss_deep = np.append(epoch_loss_deep, (running_loss / 125))\n",
    "            running_loss = 0.0\n",
    "    # calculate validation loss\n",
    "    with torch.no_grad():\n",
    "        inputs = val_x.reshape((-1,1,32,32))\n",
    "        labels = val_y.reshape((-1))\n",
    "        inputs = inputs.cuda()\n",
    "        labels = labels.cuda()\n",
    "        outputs = net(inputs)\n",
    "        loss = criterion(outputs, labels)\n",
    "        epoch_loss_val_deep = np.append(epoch_loss_val_deep, loss.item())\n",
    "\n",
    "print('Finished Training')"
   ]
  },
  {
   "cell_type": "code",
   "execution_count": 82,
   "metadata": {
    "scrolled": true
   },
   "outputs": [
    {
     "data": {
      "text/plain": [
       "(5,)"
      ]
     },
     "execution_count": 82,
     "metadata": {},
     "output_type": "execute_result"
    }
   ],
   "source": [
    "loss_deep = epoch_loss_deep.reshape((-1,6))[:,-1]\n",
    "loss_deep.shape"
   ]
  },
  {
   "cell_type": "markdown",
   "metadata": {},
   "source": [
    "### Plot different layer depths"
   ]
  },
  {
   "cell_type": "code",
   "execution_count": 83,
   "metadata": {},
   "outputs": [
    {
     "data": {
      "image/png": "[encoded data removed]",
      "text/plain": [
       "<Figure size 432x288 with 1 Axes>"
      ]
     },
     "metadata": {
      "needs_background": "light"
     },
     "output_type": "display_data"
    }
   ],
   "source": [
    "plt.plot(range(len(loss_shallow)), loss_shallow, label='1 Conv2D per layer')\n",
    "plt.plot(range(len(loss_mid)), loss_mid, label='2 Conv2D per layer')\n",
    "plt.plot(range(len(loss_deep)), loss_deep, label='3 Conv2D per layer')\n",
    "plt.title(\"Training loss with different layer depths\")\n",
    "plt.xlabel(\"Epoch\")\n",
    "plt.ylabel(\"Cross-entropy loss\")\n",
    "plt.legend(loc='upper right')\n",
    "plt.show()"
   ]
  },
  {
   "cell_type": "markdown",
   "metadata": {},
   "source": [
    "## Batch size"
   ]
  },
  {
   "cell_type": "code",
   "execution_count": 15,
   "metadata": {},
   "outputs": [],
   "source": [
    "# Trainloader\n",
    "trainloader = [0] * 3\n",
    "train_x = train_dataset_cropped[:-100].float()\n",
    "train_y = torch.Tensor(train_labels[:-100]).long()\n",
    "trainset = torch.utils.data.TensorDataset(train_x, train_y)\n",
    "for i in range(3) :\n",
    "    trainloader[i] = torch.utils.data.DataLoader(trainset, batch_size=64, shuffle=True, num_workers=2)\n",
    "# Validation set\n",
    "val_x = train_dataset_cropped[-100:].float()\n",
    "val_y = torch.Tensor(train_labels[-100:]).long()\n",
    "# Model, loss function, optimizer\n",
    "net = [0] * 3\n",
    "criterion = [0] * 3 \n",
    "optimizer = [0] * 3 \n",
    "for i in range(3) :\n",
    "    net[i] = Net()\n",
    "    net[i] = net[i].cuda()\n",
    "    criterion[i] = nn.CrossEntropyLoss()\n",
    "    optimizer[i] = torch.optim.Adam(net[i].parameters(), lr=1e-4)"
   ]
  },
  {
   "cell_type": "code",
   "execution_count": 16,
   "metadata": {},
   "outputs": [],
   "source": [
    "epoch_loss = [0] * 3\n",
    "epoch_loss_val = [0] * 3\n",
    "for i in range(3) :\n",
    "    epoch_loss[i] = np.array([])\n",
    "    epoch_loss_val[i] = np.array([])"
   ]
  },
  {
   "cell_type": "code",
   "execution_count": 17,
   "metadata": {
    "scrolled": true
   },
   "outputs": [
    {
     "name": "stdout",
     "output_type": "stream",
     "text": [
      "Batch Size 4\n",
      "[1,   125] loss: 0.839\n",
      "[1,   250] loss: 0.303\n",
      "[1,   375] loss: 0.188\n",
      "[1,   500] loss: 0.138\n",
      "[1,   625] loss: 0.111\n",
      "[1,   750] loss: 0.095\n",
      "[2,   125] loss: 0.074\n",
      "[2,   250] loss: 0.072\n",
      "[2,   375] loss: 0.063\n",
      "[2,   500] loss: 0.068\n",
      "[2,   625] loss: 0.058\n",
      "[2,   750] loss: 0.064\n",
      "[3,   125] loss: 0.051\n",
      "[3,   250] loss: 0.052\n",
      "[3,   375] loss: 0.050\n",
      "[3,   500] loss: 0.049\n",
      "[3,   625] loss: 0.047\n",
      "[3,   750] loss: 0.048\n",
      "[4,   125] loss: 0.044\n",
      "[4,   250] loss: 0.044\n",
      "[4,   375] loss: 0.043\n",
      "[4,   500] loss: 0.040\n",
      "[4,   625] loss: 0.042\n",
      "[4,   750] loss: 0.041\n",
      "[5,   125] loss: 0.036\n",
      "[5,   250] loss: 0.037\n",
      "[5,   375] loss: 0.037\n",
      "[5,   500] loss: 0.037\n",
      "[5,   625] loss: 0.034\n",
      "[5,   750] loss: 0.041\n",
      "Finished Training\n",
      "Batch Size 16\n",
      "[1,   125] loss: 0.802\n",
      "[1,   250] loss: 0.282\n",
      "[1,   375] loss: 0.176\n",
      "[1,   500] loss: 0.133\n",
      "[1,   625] loss: 0.110\n",
      "[1,   750] loss: 0.093\n",
      "[2,   125] loss: 0.077\n",
      "[2,   250] loss: 0.070\n",
      "[2,   375] loss: 0.064\n",
      "[2,   500] loss: 0.062\n",
      "[2,   625] loss: 0.059\n",
      "[2,   750] loss: 0.060\n",
      "[3,   125] loss: 0.053\n",
      "[3,   250] loss: 0.051\n",
      "[3,   375] loss: 0.051\n",
      "[3,   500] loss: 0.052\n",
      "[3,   625] loss: 0.051\n",
      "[3,   750] loss: 0.046\n",
      "[4,   125] loss: 0.043\n",
      "[4,   250] loss: 0.042\n",
      "[4,   375] loss: 0.047\n",
      "[4,   500] loss: 0.040\n",
      "[4,   625] loss: 0.043\n",
      "[4,   750] loss: 0.043\n",
      "[5,   125] loss: 0.043\n",
      "[5,   250] loss: 0.038\n",
      "[5,   375] loss: 0.033\n",
      "[5,   500] loss: 0.039\n",
      "[5,   625] loss: 0.032\n",
      "[5,   750] loss: 0.038\n",
      "Finished Training\n",
      "Batch Size 64\n",
      "[1,   125] loss: 0.806\n",
      "[1,   250] loss: 0.270\n",
      "[1,   375] loss: 0.171\n",
      "[1,   500] loss: 0.127\n",
      "[1,   625] loss: 0.104\n",
      "[1,   750] loss: 0.096\n",
      "[2,   125] loss: 0.074\n",
      "[2,   250] loss: 0.073\n",
      "[2,   375] loss: 0.070\n",
      "[2,   500] loss: 0.067\n",
      "[2,   625] loss: 0.058\n",
      "[2,   750] loss: 0.054\n",
      "[3,   125] loss: 0.052\n",
      "[3,   250] loss: 0.063\n",
      "[3,   375] loss: 0.048\n",
      "[3,   500] loss: 0.050\n",
      "[3,   625] loss: 0.048\n",
      "[3,   750] loss: 0.049\n",
      "[4,   125] loss: 0.040\n",
      "[4,   250] loss: 0.045\n",
      "[4,   375] loss: 0.038\n",
      "[4,   500] loss: 0.046\n",
      "[4,   625] loss: 0.048\n",
      "[4,   750] loss: 0.045\n",
      "[5,   125] loss: 0.042\n",
      "[5,   250] loss: 0.040\n",
      "[5,   375] loss: 0.042\n",
      "[5,   500] loss: 0.034\n",
      "[5,   625] loss: 0.040\n",
      "[5,   750] loss: 0.036\n",
      "Finished Training\n"
     ]
    }
   ],
   "source": [
    "# Train the network\n",
    "batch_size = [4,16,64]\n",
    "for i in range(3) :\n",
    "    print('Batch Size {0:d}'.format(batch_size[i]))\n",
    "    for epoch in range(5):  # loop over the dataset multiple times\n",
    "        running_loss = 0.0\n",
    "        for j, data in enumerate(trainloader[i], 0):\n",
    "            # get the inputs; data is a list of [inputs, labels]\n",
    "            inputs, labels = data\n",
    "            inputs = inputs.reshape((-1,1,32,32))\n",
    "            labels = labels.reshape((-1))\n",
    "            inputs = inputs.cuda()\n",
    "            labels = labels.cuda()\n",
    "\n",
    "            # zero the parameter gradients\n",
    "            optimizer[i].zero_grad()\n",
    "\n",
    "            # forward + backward + optimize\n",
    "            outputs = net[i](inputs)\n",
    "            loss = criterion[i](outputs, labels)\n",
    "            loss.backward()\n",
    "            optimizer[i].step()\n",
    "\n",
    "            # print statistics\n",
    "            running_loss += loss.item()\n",
    "            if j % 125 == 124:    # print every 125 mini-batches\n",
    "                print('[%d, %5d] loss: %.3f' %\n",
    "                      (epoch + 1, j + 1, running_loss / 125))\n",
    "                epoch_loss[i] = np.append(epoch_loss[i], (running_loss / 125))\n",
    "                running_loss = 0.0\n",
    "        # calculate validation loss\n",
    "        with torch.no_grad():\n",
    "            inputs = val_x.reshape((-1,1,32,32))\n",
    "            labels = val_y.reshape((-1))\n",
    "            inputs = inputs.cuda()\n",
    "            labels = labels.cuda()\n",
    "            outputs = net[i](inputs)\n",
    "            loss = criterion[i](outputs, labels)\n",
    "            epoch_loss_val[i] = np.append(epoch_loss_val[i], loss.item())\n",
    "\n",
    "    print('Finished Training')"
   ]
  },
  {
   "cell_type": "code",
   "execution_count": 18,
   "metadata": {},
   "outputs": [
    {
     "data": {
      "text/plain": [
       "[array([0.09462449, 0.06412257, 0.04817074, 0.04062952, 0.04135608]),\n",
       " array([0.09321165, 0.06048244, 0.04601078, 0.04316928, 0.03829029]),\n",
       " array([0.09606637, 0.05420374, 0.04893441, 0.04460038, 0.03570664])]"
      ]
     },
     "execution_count": 18,
     "metadata": {},
     "output_type": "execute_result"
    }
   ],
   "source": [
    "loss = [0] * 3\n",
    "for i in range(3) :\n",
    "    loss[i] = epoch_loss[i].reshape((-1,6))[:,-1]\n",
    "loss"
   ]
  },
  {
   "cell_type": "code",
   "execution_count": 19,
   "metadata": {},
   "outputs": [
    {
     "data": {
      "image/png": "[encoded data removed]",
      "text/plain": [
       "<Figure size 432x288 with 1 Axes>"
      ]
     },
     "metadata": {
      "needs_background": "light"
     },
     "output_type": "display_data"
    }
   ],
   "source": [
    "plt.plot(range(5), loss[0], label='batch size = 4')\n",
    "plt.plot(range(5), loss[1], label='batch size = 16')\n",
    "plt.plot(range(5), loss[2], label='batch size = 64')\n",
    "plt.title(\"Training loss with different batch sizes\")\n",
    "plt.xlabel(\"Epoch\")\n",
    "plt.ylabel(\"Cross-entropy loss\")\n",
    "plt.legend(loc='upper right')\n",
    "plt.show()"
   ]
  },
  {
   "cell_type": "markdown",
   "metadata": {
    "id": "BUKPWYOvHtct"
   },
   "source": [
    "# Training and prediction"
   ]
  },
  {
   "cell_type": "markdown",
   "metadata": {
    "id": "eG-mHpoD5WvM"
   },
   "source": [
    "## Model"
   ]
  },
  {
   "cell_type": "code",
   "execution_count": 12,
   "metadata": {},
   "outputs": [],
   "source": [
    "class Net(nn.Module):\n",
    "\n",
    "    def __init__(self):\n",
    "        super(Net, self).__init__()\n",
    "\n",
    "        self._conv0 = nn.Sequential(\n",
    "            nn.Conv2d(1, 32, 3),\n",
    "            nn.ReLU(),\n",
    "            nn.BatchNorm2d(32),\n",
    "            nn.Conv2d(32, 32, 3),\n",
    "            nn.ReLU(),\n",
    "            nn.BatchNorm2d(32), \n",
    "            nn.Conv2d(32, 32, 5, stride=2, padding=2), \n",
    "            nn.ReLU(),\n",
    "            nn.BatchNorm2d(32),\n",
    "            nn.Dropout(0.25)\n",
    "        )\n",
    "\n",
    "        self._conv1 = nn.Sequential(\n",
    "            nn.Conv2d(32, 64, 3),\n",
    "            nn.ReLU(),\n",
    "            nn.BatchNorm2d(64), \n",
    "            nn.Conv2d(64, 64, 3),\n",
    "            nn.ReLU(),\n",
    "            nn.BatchNorm2d(64), \n",
    "            nn.Conv2d(64, 64, 5, stride=2, padding=1), \n",
    "            nn.ReLU(),\n",
    "            nn.BatchNorm2d(64),\n",
    "            nn.Dropout(0.25) \n",
    "        )\n",
    "        \n",
    "        self._conv2 =nn.Sequential(\n",
    "            nn.Conv2d(64, 128, 4),\n",
    "            nn.ReLU(),\n",
    "            nn.BatchNorm2d(128),\n",
    "            nn.Dropout(0.25) \n",
    "        )\n",
    "\n",
    "        self._lr0 = nn.Sequential(\n",
    "            nn.Linear(128,11)\n",
    "        )\n",
    "\n",
    "    def forward(self, x):\n",
    "        x = self._conv0(x)\n",
    "        x = self._conv1(x)\n",
    "        x = self._conv2(x)\n",
    "\n",
    "        x = x.view(-1,128)\n",
    "        x = self._lr0(x)\n",
    "        x = F.log_softmax(x,dim=1)\n",
    "\n",
    "        return x\n"
   ]
  },
  {
   "cell_type": "markdown",
   "metadata": {},
   "source": [
    "## Training"
   ]
  },
  {
   "cell_type": "code",
   "execution_count": 106,
   "metadata": {
    "id": "BEFEs63dH0jj"
   },
   "outputs": [],
   "source": [
    "# Trainloader\n",
    "train_x = train_dataset_cropped[:-100].float()\n",
    "train_y = torch.Tensor(train_labels[:-100]).long()\n",
    "trainset = torch.utils.data.TensorDataset(train_x, train_y)\n",
    "trainloader = torch.utils.data.DataLoader(trainset, batch_size=64, shuffle=True, num_workers=2)"
   ]
  },
  {
   "cell_type": "code",
   "execution_count": 107,
   "metadata": {},
   "outputs": [],
   "source": [
    "# Validation set\n",
    "val_x = train_dataset_cropped[-100:].float()\n",
    "val_y = torch.Tensor(train_labels[-100:]).long()"
   ]
  },
  {
   "cell_type": "code",
   "execution_count": 108,
   "metadata": {
    "id": "jJlYadVlm1Fj"
   },
   "outputs": [],
   "source": [
    "# Testloader\n",
    "test_dataset = test_dataset_raw.transpose(0,3,1,2)\n",
    "test_dataset_cropped = cropDataset(test_dataset)\n",
    "test_dataset_cropped = test_dataset_cropped.reshape((-1,5,1,32,32))\n",
    "\n",
    "test_x = test_dataset_cropped.float()\n",
    "test_y = torch.ones(test_dataset_cropped.shape[0],5) # pseudo labels for pytorch TensorDataset\n",
    "testset = torch.utils.data.TensorDataset(test_x, test_y)\n",
    "testloader = torch.utils.data.DataLoader(testset, batch_size=4,shuffle=False, num_workers=2)"
   ]
  },
  {
   "cell_type": "code",
   "execution_count": 109,
   "metadata": {
    "id": "Gw9b0aADH2-G"
   },
   "outputs": [],
   "source": [
    "# Model, loss function, optimizer\n",
    "net = Net()\n",
    "net = net.cuda()\n",
    "criterion = nn.CrossEntropyLoss()\n",
    "optimizer = torch.optim.Adam(net.parameters(), lr=1e-4)"
   ]
  },
  {
   "cell_type": "code",
   "execution_count": 110,
   "metadata": {},
   "outputs": [],
   "source": [
    "epoch_loss = np.array([])\n",
    "epoch_loss_val = np.array([])"
   ]
  },
  {
   "cell_type": "code",
   "execution_count": 111,
   "metadata": {
    "id": "RN48jUmHH4mW"
   },
   "outputs": [
    {
     "name": "stdout",
     "output_type": "stream",
     "text": [
      "[1,   125] loss: 0.805\n",
      "[1,   250] loss: 0.276\n",
      "[1,   375] loss: 0.176\n",
      "[1,   500] loss: 0.130\n",
      "[1,   625] loss: 0.107\n",
      "[1,   750] loss: 0.096\n",
      "[2,   125] loss: 0.071\n",
      "[2,   250] loss: 0.066\n",
      "[2,   375] loss: 0.066\n",
      "[2,   500] loss: 0.068\n",
      "[2,   625] loss: 0.064\n",
      "[2,   750] loss: 0.059\n",
      "[3,   125] loss: 0.053\n",
      "[3,   250] loss: 0.047\n",
      "[3,   375] loss: 0.056\n",
      "[3,   500] loss: 0.046\n",
      "[3,   625] loss: 0.054\n",
      "[3,   750] loss: 0.049\n",
      "[4,   125] loss: 0.047\n",
      "[4,   250] loss: 0.045\n",
      "[4,   375] loss: 0.038\n",
      "[4,   500] loss: 0.042\n",
      "[4,   625] loss: 0.036\n",
      "[4,   750] loss: 0.045\n",
      "[5,   125] loss: 0.043\n",
      "[5,   250] loss: 0.030\n",
      "[5,   375] loss: 0.035\n",
      "[5,   500] loss: 0.043\n",
      "[5,   625] loss: 0.044\n",
      "[5,   750] loss: 0.042\n",
      "[6,   125] loss: 0.038\n",
      "[6,   250] loss: 0.033\n",
      "[6,   375] loss: 0.036\n",
      "[6,   500] loss: 0.039\n",
      "[6,   625] loss: 0.034\n",
      "[6,   750] loss: 0.033\n",
      "[7,   125] loss: 0.032\n",
      "[7,   250] loss: 0.033\n",
      "[7,   375] loss: 0.029\n",
      "[7,   500] loss: 0.033\n",
      "[7,   625] loss: 0.040\n",
      "[7,   750] loss: 0.033\n",
      "[8,   125] loss: 0.029\n",
      "[8,   250] loss: 0.032\n",
      "[8,   375] loss: 0.031\n",
      "[8,   500] loss: 0.035\n",
      "[8,   625] loss: 0.032\n",
      "[8,   750] loss: 0.029\n",
      "[9,   125] loss: 0.030\n",
      "[9,   250] loss: 0.034\n",
      "[9,   375] loss: 0.025\n",
      "[9,   500] loss: 0.038\n",
      "[9,   625] loss: 0.030\n",
      "[9,   750] loss: 0.026\n",
      "[10,   125] loss: 0.024\n",
      "[10,   250] loss: 0.025\n",
      "[10,   375] loss: 0.029\n",
      "[10,   500] loss: 0.028\n",
      "[10,   625] loss: 0.028\n",
      "[10,   750] loss: 0.033\n",
      "[11,   125] loss: 0.029\n",
      "[11,   250] loss: 0.030\n",
      "[11,   375] loss: 0.025\n",
      "[11,   500] loss: 0.027\n",
      "[11,   625] loss: 0.023\n",
      "[11,   750] loss: 0.032\n",
      "[12,   125] loss: 0.023\n",
      "[12,   250] loss: 0.027\n",
      "[12,   375] loss: 0.029\n",
      "[12,   500] loss: 0.029\n",
      "[12,   625] loss: 0.024\n",
      "[12,   750] loss: 0.028\n",
      "[13,   125] loss: 0.021\n",
      "[13,   250] loss: 0.033\n",
      "[13,   375] loss: 0.025\n",
      "[13,   500] loss: 0.027\n",
      "[13,   625] loss: 0.022\n",
      "[13,   750] loss: 0.027\n",
      "[14,   125] loss: 0.026\n",
      "[14,   250] loss: 0.023\n",
      "[14,   375] loss: 0.024\n",
      "[14,   500] loss: 0.022\n",
      "[14,   625] loss: 0.026\n",
      "[14,   750] loss: 0.027\n",
      "[15,   125] loss: 0.028\n",
      "[15,   250] loss: 0.020\n",
      "[15,   375] loss: 0.024\n",
      "[15,   500] loss: 0.025\n",
      "[15,   625] loss: 0.024\n",
      "[15,   750] loss: 0.024\n",
      "[16,   125] loss: 0.022\n",
      "[16,   250] loss: 0.024\n",
      "[16,   375] loss: 0.021\n",
      "[16,   500] loss: 0.022\n",
      "[16,   625] loss: 0.026\n",
      "[16,   750] loss: 0.028\n",
      "[17,   125] loss: 0.025\n",
      "[17,   250] loss: 0.031\n",
      "[17,   375] loss: 0.019\n",
      "[17,   500] loss: 0.023\n",
      "[17,   625] loss: 0.020\n",
      "[17,   750] loss: 0.018\n",
      "[18,   125] loss: 0.025\n",
      "[18,   250] loss: 0.019\n",
      "[18,   375] loss: 0.023\n",
      "[18,   500] loss: 0.023\n",
      "[18,   625] loss: 0.028\n",
      "[18,   750] loss: 0.023\n",
      "[19,   125] loss: 0.023\n",
      "[19,   250] loss: 0.024\n",
      "[19,   375] loss: 0.022\n",
      "[19,   500] loss: 0.021\n",
      "[19,   625] loss: 0.019\n",
      "[19,   750] loss: 0.023\n",
      "[20,   125] loss: 0.022\n",
      "[20,   250] loss: 0.017\n",
      "[20,   375] loss: 0.028\n",
      "[20,   500] loss: 0.020\n",
      "[20,   625] loss: 0.020\n",
      "[20,   750] loss: 0.023\n",
      "Finished Training\n"
     ]
    }
   ],
   "source": [
    "# Train the network\n",
    "for epoch in range(20):  # loop over the dataset multiple times\n",
    "    running_loss = 0.0\n",
    "    for i, data in enumerate(trainloader, 0):\n",
    "        # get the inputs; data is a list of [inputs, labels]\n",
    "        inputs, labels = data\n",
    "        inputs = inputs.reshape((-1,1,32,32))\n",
    "        labels = labels.reshape((-1))\n",
    "        inputs = inputs.cuda()\n",
    "        labels = labels.cuda()\n",
    "\n",
    "        # zero the parameter gradients\n",
    "        optimizer.zero_grad()\n",
    "\n",
    "        # forward + backward + optimize\n",
    "        outputs = net(inputs)\n",
    "        loss = criterion(outputs, labels)\n",
    "        loss.backward()\n",
    "        optimizer.step()\n",
    "\n",
    "        # print statistics\n",
    "        running_loss += loss.item()\n",
    "        if i % 125 == 124:    # print every 125 mini-batches\n",
    "            print('[%d, %5d] loss: %.3f' %\n",
    "                  (epoch + 1, i + 1, running_loss / 125))\n",
    "            epoch_loss = np.append(epoch_loss, (running_loss / 125))\n",
    "            running_loss = 0.0\n",
    "    # calculate validation loss\n",
    "    with torch.no_grad():\n",
    "        inputs = val_x.reshape((-1,1,32,32))\n",
    "        labels = val_y.reshape((-1))\n",
    "        inputs = inputs.cuda()\n",
    "        labels = labels.cuda()\n",
    "        outputs = net(inputs)\n",
    "        loss = criterion(outputs, labels)\n",
    "        epoch_loss_val = np.append(epoch_loss_val, loss.item())\n",
    "\n",
    "print('Finished Training')"
   ]
  },
  {
   "cell_type": "code",
   "execution_count": 112,
   "metadata": {},
   "outputs": [
    {
     "data": {
      "text/plain": [
       "array([0.09643633, 0.05882401, 0.04928407, 0.04538844, 0.04225561,\n",
       "       0.03310669, 0.03298904, 0.02891193, 0.02603716, 0.03251626,\n",
       "       0.03246312, 0.02778192, 0.02721626, 0.02666887, 0.02376602,\n",
       "       0.02799142, 0.01785416, 0.02274881, 0.02300568, 0.0234077 ])"
      ]
     },
     "execution_count": 112,
     "metadata": {},
     "output_type": "execute_result"
    }
   ],
   "source": [
    "loss = epoch_loss.reshape((-1,6))[:,-1]\n",
    "loss"
   ]
  },
  {
   "cell_type": "code",
   "execution_count": 113,
   "metadata": {},
   "outputs": [
    {
     "data": {
      "text/plain": [
       "array([0.05601961, 0.025375  , 0.01736503, 0.00973326, 0.01197721,\n",
       "       0.00897908, 0.01503765, 0.01599278, 0.00647996, 0.00984   ,\n",
       "       0.00682373, 0.00646178, 0.01075508, 0.01410765, 0.01283732,\n",
       "       0.00758939, 0.00959684, 0.0111522 , 0.00316822, 0.00483543])"
      ]
     },
     "execution_count": 113,
     "metadata": {},
     "output_type": "execute_result"
    }
   ],
   "source": [
    "epoch_loss_val"
   ]
  },
  {
   "cell_type": "code",
   "execution_count": 115,
   "metadata": {},
   "outputs": [
    {
     "data": {
      "image/png": "[encoded data removed]",
      "text/plain": [
       "<Figure size 432x288 with 1 Axes>"
      ]
     },
     "metadata": {
      "needs_background": "light"
     },
     "output_type": "display_data"
    }
   ],
   "source": [
    "plt.plot(range(20), loss, label='Training loss')\n",
    "plt.plot(range(20), epoch_loss_val, label='Validation loss')\n",
    "plt.title(\"Cross-entropy loss v.s. Epoch\")\n",
    "plt.xlabel(\"Epoch\")\n",
    "plt.ylabel(\"Cross-entropy loss\")\n",
    "plt.legend(loc='upper right')\n",
    "plt.show()"
   ]
  },
  {
   "cell_type": "markdown",
   "metadata": {},
   "source": [
    "## Prediction"
   ]
  },
  {
   "cell_type": "code",
   "execution_count": 116,
   "metadata": {
    "id": "2jY7XefaK9AL"
   },
   "outputs": [],
   "source": [
    "# Predict the test dataset\n",
    "test_predictions = np.array([])\n",
    "\n",
    "with torch.no_grad():\n",
    "    for data in testloader:\n",
    "        images,_ = data\n",
    "        images = images.reshape((-1,1,32,32))\n",
    "        images = images.cuda()\n",
    "        outputs = net(images)\n",
    "        _, predicted = torch.max(outputs.data, 1)\n",
    "        test_predictions = np.append(test_predictions, predicted.cpu().numpy().reshape((-1,5)))\n",
    "        \n",
    "test_predictions = test_predictions.reshape((-1,5))"
   ]
  },
  {
   "cell_type": "code",
   "execution_count": 117,
   "metadata": {
    "id": "4HZwQ1amDci7"
   },
   "outputs": [
    {
     "data": {
      "text/html": [
       "<div>\n",
       "<style scoped>\n",
       "    .dataframe tbody tr th:only-of-type {\n",
       "        vertical-align: middle;\n",
       "    }\n",
       "\n",
       "    .dataframe tbody tr th {\n",
       "        vertical-align: top;\n",
       "    }\n",
       "\n",
       "    .dataframe thead th {\n",
       "        text-align: right;\n",
       "    }\n",
       "</style>\n",
       "<table border=\"1\" class=\"dataframe\">\n",
       "  <thead>\n",
       "    <tr style=\"text-align: right;\">\n",
       "      <th></th>\n",
       "      <th>Id</th>\n",
       "      <th>Label</th>\n",
       "    </tr>\n",
       "  </thead>\n",
       "  <tbody>\n",
       "    <tr>\n",
       "      <th>0</th>\n",
       "      <td>0</td>\n",
       "      <td>910101010</td>\n",
       "    </tr>\n",
       "    <tr>\n",
       "      <th>1</th>\n",
       "      <td>1</td>\n",
       "      <td>017310</td>\n",
       "    </tr>\n",
       "    <tr>\n",
       "      <th>2</th>\n",
       "      <td>2</td>\n",
       "      <td>14083</td>\n",
       "    </tr>\n",
       "    <tr>\n",
       "      <th>3</th>\n",
       "      <td>3</td>\n",
       "      <td>010101010</td>\n",
       "    </tr>\n",
       "    <tr>\n",
       "      <th>4</th>\n",
       "      <td>4</td>\n",
       "      <td>467810</td>\n",
       "    </tr>\n",
       "    <tr>\n",
       "      <th>...</th>\n",
       "      <td>...</td>\n",
       "      <td>...</td>\n",
       "    </tr>\n",
       "    <tr>\n",
       "      <th>13995</th>\n",
       "      <td>13995</td>\n",
       "      <td>110101010</td>\n",
       "    </tr>\n",
       "    <tr>\n",
       "      <th>13996</th>\n",
       "      <td>13996</td>\n",
       "      <td>604110</td>\n",
       "    </tr>\n",
       "    <tr>\n",
       "      <th>13997</th>\n",
       "      <td>13997</td>\n",
       "      <td>310101010</td>\n",
       "    </tr>\n",
       "    <tr>\n",
       "      <th>13998</th>\n",
       "      <td>13998</td>\n",
       "      <td>419710</td>\n",
       "    </tr>\n",
       "    <tr>\n",
       "      <th>13999</th>\n",
       "      <td>13999</td>\n",
       "      <td>58309</td>\n",
       "    </tr>\n",
       "  </tbody>\n",
       "</table>\n",
       "<p>14000 rows × 2 columns</p>\n",
       "</div>"
      ],
      "text/plain": [
       "          Id      Label\n",
       "0          0  910101010\n",
       "1          1     017310\n",
       "2          2      14083\n",
       "3          3  010101010\n",
       "4          4     467810\n",
       "...      ...        ...\n",
       "13995  13995  110101010\n",
       "13996  13996     604110\n",
       "13997  13997  310101010\n",
       "13998  13998     419710\n",
       "13999  13999      58309\n",
       "\n",
       "[14000 rows x 2 columns]"
      ]
     },
     "execution_count": 117,
     "metadata": {},
     "output_type": "execute_result"
    }
   ],
   "source": [
    "# Save the prediction for test dataset\n",
    "test_predictions_str = np.apply_along_axis(lambda x : ''.join(map(str, x)), axis=1, arr=test_predictions.astype(int))\n",
    "test_predictions_pd = pd.DataFrame(test_predictions_str,columns=['Label'])\n",
    "test_predictions_pd['Id'] = test_predictions_pd.index\n",
    "test_predictions_pd.sort_index(axis=1,inplace=True)\n",
    "test_predictions_pd.to_csv('outputs.csv', index=False)\n",
    "test_predictions_pd"
   ]
  },
  {
   "cell_type": "code",
   "execution_count": null,
   "metadata": {},
   "outputs": [],
   "source": []
  }
 ],
 "metadata": {
  "kernelspec": {
   "display_name": "Python 3",
   "language": "python",
   "name": "python3"
  },
  "language_info": {
   "codemirror_mode": {
    "name": "ipython",
    "version": 3
   },
   "file_extension": ".py",
   "mimetype": "text/x-python",
   "name": "python",
   "nbconvert_exporter": "python",
   "pygments_lexer": "ipython3",
   "version": "3.8.5"
  }
 },
 "nbformat": 4,
 "nbformat_minor": 4
}
